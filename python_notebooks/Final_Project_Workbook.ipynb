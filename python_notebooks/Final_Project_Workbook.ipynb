{
 "cells": [
  {
   "cell_type": "markdown",
   "metadata": {},
   "source": [
    "# Final Project, Part 1\n",
    "\n",
    "The purpose of this assignment is to explore the data you will use for *all parts* of your Final Project. *Please note: you will do this portion of the Final Project individually, even if you plan on working in a group for Parts 2 and 3.*\n",
    "    \n",
    "**Please see Homework Prompt in PrairieLearn interface for more details on the requirements for this assignment.**\n",
    "\n",
    "A rough outline of elements of code and write-up is shown below:"
   ]
  },
  {
   "cell_type": "markdown",
   "metadata": {},
   "source": [
    "## Dataset information\n",
    "\n",
    "- Name of dataset: Current Prevailing Wage Rates\n",
    "- Obtained from: data.illinois.gov\n",
    "- URL: https://data.illinois.gov/dataset/idol-2018-prevailing-wage-rates/resource/0c95f063-aed9-4db7-adc3-c224acee8fc2\n",
    "- License: Creative Commons Attribution (You can do essentially whatever you want using the data, as long as you give credit for the data to the original group)\n",
    "- Dataset size: This dataset's CSV is 595 kb, which is relatively small, which means it shouldn't be a limiting factor for anything. It has 6667 rows and 17 columns."
   ]
  },
  {
   "cell_type": "markdown",
   "metadata": {},
   "source": [
    "## Data exploration and Plot\n",
    "\n",
    "Explore the dataset in the Workspace. Make sure you include things that did and did not work (be sure to comment out things that don't work). "
   ]
  },
  {
   "cell_type": "code",
   "execution_count": 1,
   "metadata": {},
   "outputs": [
    {
     "name": "stderr",
     "output_type": "stream",
     "text": [
      "Matplotlib created a temporary config/cache directory at /tmp/matplotlib-u3d0hc0k because the default path (/tmp/cache/matplotlib) is not a writable directory; it is highly recommended to set the MPLCONFIGDIR environment variable to a writable directory, in particular to speed up the import of Matplotlib and to better support multiprocessing.\n"
     ]
    }
   ],
   "source": [
    "import pandas as pd\n",
    "import matplotlib.pyplot as plt"
   ]
  },
  {
   "cell_type": "code",
   "execution_count": 2,
   "metadata": {},
   "outputs": [
    {
     "data": {
      "text/html": [
       "<div>\n",
       "<style scoped>\n",
       "    .dataframe tbody tr th:only-of-type {\n",
       "        vertical-align: middle;\n",
       "    }\n",
       "\n",
       "    .dataframe tbody tr th {\n",
       "        vertical-align: top;\n",
       "    }\n",
       "\n",
       "    .dataframe thead th {\n",
       "        text-align: right;\n",
       "    }\n",
       "</style>\n",
       "<table border=\"1\" class=\"dataframe\">\n",
       "  <thead>\n",
       "    <tr style=\"text-align: right;\">\n",
       "      <th></th>\n",
       "      <th>Effective Date</th>\n",
       "      <th>County</th>\n",
       "      <th>Trade Title</th>\n",
       "      <th>Region</th>\n",
       "      <th>Type</th>\n",
       "      <th>Class</th>\n",
       "      <th>Base Wage</th>\n",
       "      <th>Foreman Wage</th>\n",
       "      <th>OT M-F</th>\n",
       "      <th>OT Sa</th>\n",
       "      <th>OT Su</th>\n",
       "      <th>OT Hol</th>\n",
       "      <th>H/W</th>\n",
       "      <th>Pension</th>\n",
       "      <th>Vacation</th>\n",
       "      <th>Training</th>\n",
       "      <th>Other Fringe Benefit</th>\n",
       "    </tr>\n",
       "  </thead>\n",
       "  <tbody>\n",
       "    <tr>\n",
       "      <th>0</th>\n",
       "      <td>4/5/2019</td>\n",
       "      <td>Adams</td>\n",
       "      <td>ASBESTOS ABT-GEN</td>\n",
       "      <td>All</td>\n",
       "      <td>BLD</td>\n",
       "      <td>NaN</td>\n",
       "      <td>25.40</td>\n",
       "      <td>27.15</td>\n",
       "      <td>1.5</td>\n",
       "      <td>1.5</td>\n",
       "      <td>2.0</td>\n",
       "      <td>2.0</td>\n",
       "      <td>9.25</td>\n",
       "      <td>12.13</td>\n",
       "      <td>0.0</td>\n",
       "      <td>0.80</td>\n",
       "      <td>0.0</td>\n",
       "    </tr>\n",
       "    <tr>\n",
       "      <th>1</th>\n",
       "      <td>8/15/2018</td>\n",
       "      <td>Adams</td>\n",
       "      <td>ASBESTOS ABT-MEC</td>\n",
       "      <td>ALL</td>\n",
       "      <td>BLD</td>\n",
       "      <td>NaN</td>\n",
       "      <td>31.56</td>\n",
       "      <td>32.56</td>\n",
       "      <td>1.5</td>\n",
       "      <td>1.5</td>\n",
       "      <td>2.0</td>\n",
       "      <td>2.0</td>\n",
       "      <td>8.25</td>\n",
       "      <td>3.00</td>\n",
       "      <td>0.0</td>\n",
       "      <td>0.00</td>\n",
       "      <td>NaN</td>\n",
       "    </tr>\n",
       "    <tr>\n",
       "      <th>2</th>\n",
       "      <td>8/15/2018</td>\n",
       "      <td>Adams</td>\n",
       "      <td>BOILERMAKER</td>\n",
       "      <td>All</td>\n",
       "      <td>BLD</td>\n",
       "      <td>NaN</td>\n",
       "      <td>37.00</td>\n",
       "      <td>39.50</td>\n",
       "      <td>1.5</td>\n",
       "      <td>1.5</td>\n",
       "      <td>2.0</td>\n",
       "      <td>2.0</td>\n",
       "      <td>7.07</td>\n",
       "      <td>23.72</td>\n",
       "      <td>1.5</td>\n",
       "      <td>1.05</td>\n",
       "      <td>0.0</td>\n",
       "    </tr>\n",
       "    <tr>\n",
       "      <th>3</th>\n",
       "      <td>8/15/2018</td>\n",
       "      <td>Adams</td>\n",
       "      <td>BRICK MASON</td>\n",
       "      <td>All</td>\n",
       "      <td>BLD</td>\n",
       "      <td>NaN</td>\n",
       "      <td>30.29</td>\n",
       "      <td>31.80</td>\n",
       "      <td>1.5</td>\n",
       "      <td>1.5</td>\n",
       "      <td>2.0</td>\n",
       "      <td>2.0</td>\n",
       "      <td>9.10</td>\n",
       "      <td>11.18</td>\n",
       "      <td>0.0</td>\n",
       "      <td>0.85</td>\n",
       "      <td>0.0</td>\n",
       "    </tr>\n",
       "    <tr>\n",
       "      <th>4</th>\n",
       "      <td>4/5/2019</td>\n",
       "      <td>Adams</td>\n",
       "      <td>CARPENTER</td>\n",
       "      <td>All</td>\n",
       "      <td>BLD</td>\n",
       "      <td>NaN</td>\n",
       "      <td>32.24</td>\n",
       "      <td>34.49</td>\n",
       "      <td>1.5</td>\n",
       "      <td>1.5</td>\n",
       "      <td>2.0</td>\n",
       "      <td>2.0</td>\n",
       "      <td>8.55</td>\n",
       "      <td>17.50</td>\n",
       "      <td>0.0</td>\n",
       "      <td>0.54</td>\n",
       "      <td>0.0</td>\n",
       "    </tr>\n",
       "    <tr>\n",
       "      <th>...</th>\n",
       "      <td>...</td>\n",
       "      <td>...</td>\n",
       "      <td>...</td>\n",
       "      <td>...</td>\n",
       "      <td>...</td>\n",
       "      <td>...</td>\n",
       "      <td>...</td>\n",
       "      <td>...</td>\n",
       "      <td>...</td>\n",
       "      <td>...</td>\n",
       "      <td>...</td>\n",
       "      <td>...</td>\n",
       "      <td>...</td>\n",
       "      <td>...</td>\n",
       "      <td>...</td>\n",
       "      <td>...</td>\n",
       "      <td>...</td>\n",
       "    </tr>\n",
       "    <tr>\n",
       "      <th>6662</th>\n",
       "      <td>8/15/2018</td>\n",
       "      <td>Woodford</td>\n",
       "      <td>TRUCK DRIVER</td>\n",
       "      <td>W</td>\n",
       "      <td>ALL</td>\n",
       "      <td>2</td>\n",
       "      <td>37.60</td>\n",
       "      <td>41.07</td>\n",
       "      <td>1.5</td>\n",
       "      <td>1.5</td>\n",
       "      <td>2.0</td>\n",
       "      <td>2.0</td>\n",
       "      <td>12.65</td>\n",
       "      <td>6.12</td>\n",
       "      <td>0.0</td>\n",
       "      <td>0.25</td>\n",
       "      <td>0.0</td>\n",
       "    </tr>\n",
       "    <tr>\n",
       "      <th>6663</th>\n",
       "      <td>8/15/2018</td>\n",
       "      <td>Woodford</td>\n",
       "      <td>TRUCK DRIVER</td>\n",
       "      <td>W</td>\n",
       "      <td>ALL</td>\n",
       "      <td>3</td>\n",
       "      <td>37.85</td>\n",
       "      <td>41.07</td>\n",
       "      <td>1.5</td>\n",
       "      <td>1.5</td>\n",
       "      <td>2.0</td>\n",
       "      <td>2.0</td>\n",
       "      <td>12.65</td>\n",
       "      <td>6.12</td>\n",
       "      <td>0.0</td>\n",
       "      <td>0.25</td>\n",
       "      <td>0.0</td>\n",
       "    </tr>\n",
       "    <tr>\n",
       "      <th>6664</th>\n",
       "      <td>8/15/2018</td>\n",
       "      <td>Woodford</td>\n",
       "      <td>TRUCK DRIVER</td>\n",
       "      <td>W</td>\n",
       "      <td>ALL</td>\n",
       "      <td>4</td>\n",
       "      <td>38.20</td>\n",
       "      <td>41.07</td>\n",
       "      <td>1.5</td>\n",
       "      <td>1.5</td>\n",
       "      <td>2.0</td>\n",
       "      <td>2.0</td>\n",
       "      <td>12.65</td>\n",
       "      <td>6.12</td>\n",
       "      <td>0.0</td>\n",
       "      <td>0.25</td>\n",
       "      <td>0.0</td>\n",
       "    </tr>\n",
       "    <tr>\n",
       "      <th>6665</th>\n",
       "      <td>8/15/2018</td>\n",
       "      <td>Woodford</td>\n",
       "      <td>TRUCK DRIVER</td>\n",
       "      <td>W</td>\n",
       "      <td>ALL</td>\n",
       "      <td>5</td>\n",
       "      <td>39.21</td>\n",
       "      <td>41.07</td>\n",
       "      <td>1.5</td>\n",
       "      <td>1.5</td>\n",
       "      <td>2.0</td>\n",
       "      <td>2.0</td>\n",
       "      <td>12.65</td>\n",
       "      <td>6.12</td>\n",
       "      <td>0.0</td>\n",
       "      <td>0.25</td>\n",
       "      <td>0.0</td>\n",
       "    </tr>\n",
       "    <tr>\n",
       "      <th>6666</th>\n",
       "      <td>8/15/2018</td>\n",
       "      <td>Woodford</td>\n",
       "      <td>TUCKPOINTER</td>\n",
       "      <td>All</td>\n",
       "      <td>BLD</td>\n",
       "      <td>NaN</td>\n",
       "      <td>34.10</td>\n",
       "      <td>35.60</td>\n",
       "      <td>1.5</td>\n",
       "      <td>1.5</td>\n",
       "      <td>2.0</td>\n",
       "      <td>2.0</td>\n",
       "      <td>10.35</td>\n",
       "      <td>11.32</td>\n",
       "      <td>0.0</td>\n",
       "      <td>0.82</td>\n",
       "      <td>0.0</td>\n",
       "    </tr>\n",
       "  </tbody>\n",
       "</table>\n",
       "<p>6667 rows × 17 columns</p>\n",
       "</div>"
      ],
      "text/plain": [
       "     Effective Date    County       Trade Title Region Type Class  Base Wage  \\\n",
       "0          4/5/2019     Adams  ASBESTOS ABT-GEN    All  BLD   NaN      25.40   \n",
       "1         8/15/2018     Adams  ASBESTOS ABT-MEC    ALL  BLD   NaN      31.56   \n",
       "2         8/15/2018     Adams       BOILERMAKER    All  BLD   NaN      37.00   \n",
       "3         8/15/2018     Adams       BRICK MASON    All  BLD   NaN      30.29   \n",
       "4          4/5/2019     Adams         CARPENTER    All  BLD   NaN      32.24   \n",
       "...             ...       ...               ...    ...  ...   ...        ...   \n",
       "6662      8/15/2018  Woodford      TRUCK DRIVER      W  ALL     2      37.60   \n",
       "6663      8/15/2018  Woodford      TRUCK DRIVER      W  ALL     3      37.85   \n",
       "6664      8/15/2018  Woodford      TRUCK DRIVER      W  ALL     4      38.20   \n",
       "6665      8/15/2018  Woodford      TRUCK DRIVER      W  ALL     5      39.21   \n",
       "6666      8/15/2018  Woodford       TUCKPOINTER    All  BLD   NaN      34.10   \n",
       "\n",
       "      Foreman Wage  OT M-F  OT Sa  OT Su  OT Hol    H/W  Pension  Vacation  \\\n",
       "0            27.15     1.5    1.5    2.0     2.0   9.25    12.13       0.0   \n",
       "1            32.56     1.5    1.5    2.0     2.0   8.25     3.00       0.0   \n",
       "2            39.50     1.5    1.5    2.0     2.0   7.07    23.72       1.5   \n",
       "3            31.80     1.5    1.5    2.0     2.0   9.10    11.18       0.0   \n",
       "4            34.49     1.5    1.5    2.0     2.0   8.55    17.50       0.0   \n",
       "...            ...     ...    ...    ...     ...    ...      ...       ...   \n",
       "6662         41.07     1.5    1.5    2.0     2.0  12.65     6.12       0.0   \n",
       "6663         41.07     1.5    1.5    2.0     2.0  12.65     6.12       0.0   \n",
       "6664         41.07     1.5    1.5    2.0     2.0  12.65     6.12       0.0   \n",
       "6665         41.07     1.5    1.5    2.0     2.0  12.65     6.12       0.0   \n",
       "6666         35.60     1.5    1.5    2.0     2.0  10.35    11.32       0.0   \n",
       "\n",
       "      Training  Other Fringe Benefit  \n",
       "0         0.80                   0.0  \n",
       "1         0.00                   NaN  \n",
       "2         1.05                   0.0  \n",
       "3         0.85                   0.0  \n",
       "4         0.54                   0.0  \n",
       "...        ...                   ...  \n",
       "6662      0.25                   0.0  \n",
       "6663      0.25                   0.0  \n",
       "6664      0.25                   0.0  \n",
       "6665      0.25                   0.0  \n",
       "6666      0.82                   0.0  \n",
       "\n",
       "[6667 rows x 17 columns]"
      ]
     },
     "execution_count": 2,
     "metadata": {},
     "output_type": "execute_result"
    }
   ],
   "source": [
    "df = pd.read_csv('Data2.csv')\n",
    "df"
   ]
  },
  {
   "cell_type": "code",
   "execution_count": 3,
   "metadata": {},
   "outputs": [
    {
     "data": {
      "text/plain": [
       "array(['ASBESTOS ABT-GEN', 'ASBESTOS ABT-MEC', 'BOILERMAKER',\n",
       "       'BRICK MASON', 'CARPENTER', 'CEMENT MASON', 'CERAMIC TILE FNSHER',\n",
       "       'ELECTRIC PWR EQMT OP', 'ELECTRIC PWR GRNDMAN',\n",
       "       'ELECTRIC PWR LINEMAN', 'ELECTRIC PWR TRK DRV', 'ELECTRICIAN',\n",
       "       'ELECTRONIC SYS TECH', 'ELEVATOR CONSTRUCTOR', 'GLAZIER',\n",
       "       'HT/FROST INSULATOR', 'IRON WORKER', 'LABORER', 'LATHER',\n",
       "       'MACHINIST', 'MARBLE FINISHERS', 'MARBLE MASON', 'MILLWRIGHT',\n",
       "       'OPERATING ENGINEER', 'PAINTER', 'PAINTER OVER 30FT',\n",
       "       'PAINTER PWR EQMT', 'PILEDRIVER', 'PIPEFITTER', 'PLASTERER',\n",
       "       'PLUMBER', 'ROOFER', 'SHEETMETAL WORKER', 'SPRINKLER FITTER',\n",
       "       'STONE MASON', 'TERRAZZO FINISHER', 'TERRAZZO MASON', 'TILE LAYER',\n",
       "       'TILE MASON', 'TRUCK DRIVER', 'TUCKPOINTER', 'FLOOR LAYER',\n",
       "       'OE RIVER 1', 'OE RIVER 2', 'COMMUNICATION TECH',\n",
       "       'MATERIAL TESTER I', 'MATERIALS TESTER II', 'PAINTER SIGNS',\n",
       "       'LABORER, SKILLED', 'FENCE ERECTOR', 'COMM SYSTEMS TECH',\n",
       "       'COMM. ELECT.', 'ORNAMNTL IRON WORKER', 'SIGN HANGER',\n",
       "       'STEEL ERECTOR', 'TRAFFIC SAFETY WRKR', 'MACHINERY MOVER'],\n",
       "      dtype=object)"
      ]
     },
     "execution_count": 3,
     "metadata": {},
     "output_type": "execute_result"
    }
   ],
   "source": [
    "df['Trade Title'].unique()"
   ]
  },
  {
   "cell_type": "code",
   "execution_count": 4,
   "metadata": {},
   "outputs": [
    {
     "data": {
      "text/plain": [
       "57"
      ]
     },
     "execution_count": 4,
     "metadata": {},
     "output_type": "execute_result"
    }
   ],
   "source": [
    "len(df['Trade Title'].unique())"
   ]
  },
  {
   "cell_type": "code",
   "execution_count": 5,
   "metadata": {},
   "outputs": [
    {
     "name": "stdout",
     "output_type": "stream",
     "text": [
      "Trade Title\n",
      "ASBESTOS ABT-GEN    31.177899\n",
      "ASBESTOS ABT-MEC    28.674706\n",
      "BOILERMAKER         39.436471\n",
      "BRICK MASON         34.418077\n",
      "CARPENTER           35.583757\n",
      "Name: Base Wage, dtype: float64\n"
     ]
    }
   ],
   "source": [
    "df_trade_wage = df.groupby('Trade Title')['Base Wage']\n",
    "mean_trade_wage = df_trade_wage.mean()\n",
    "print(mean_trade_wage.head())"
   ]
  },
  {
   "cell_type": "code",
   "execution_count": 6,
   "metadata": {},
   "outputs": [
    {
     "data": {
      "text/plain": [
       "Trade Title\n",
       "ELECTRIC PWR LINEMAN    50.654754\n",
       "MACHINIST               48.350294\n",
       "ELEVATOR CONSTRUCTOR    47.145300\n",
       "ORNAMNTL IRON WORKER    46.444444\n",
       "COMM. ELECT.            43.960000\n",
       "Name: Base Wage, dtype: float64"
      ]
     },
     "execution_count": 6,
     "metadata": {},
     "output_type": "execute_result"
    }
   ],
   "source": [
    "mean_trade_wage.sort_values(ascending=False).head()"
   ]
  },
  {
   "cell_type": "code",
   "execution_count": 7,
   "metadata": {},
   "outputs": [
    {
     "data": {
      "text/plain": [
       "Trade Title\n",
       "COMM SYSTEMS TECH    28.100000\n",
       "ASBESTOS ABT-MEC     28.674706\n",
       "LABORER              29.193014\n",
       "PAINTER OVER 30FT    30.718276\n",
       "MARBLE FINISHERS     31.011471\n",
       "Name: Base Wage, dtype: float64"
      ]
     },
     "execution_count": 7,
     "metadata": {},
     "output_type": "execute_result"
    }
   ],
   "source": [
    "mean_trade_wage.sort_values(ascending=True).head()"
   ]
  },
  {
   "cell_type": "code",
   "execution_count": 8,
   "metadata": {},
   "outputs": [
    {
     "data": {
      "text/plain": [
       "0.271918404079795"
      ]
     },
     "execution_count": 8,
     "metadata": {},
     "output_type": "execute_result"
    }
   ],
   "source": [
    "df.Vacation.mean()"
   ]
  },
  {
   "cell_type": "code",
   "execution_count": 9,
   "metadata": {},
   "outputs": [
    {
     "data": {
      "text/plain": [
       "<AxesSubplot:>"
      ]
     },
     "execution_count": 9,
     "metadata": {},
     "output_type": "execute_result"
    },
    {
     "data": {
      "image/png": "[encoded data removed]",
      "text/plain": [
       "<Figure size 1440x720 with 1 Axes>"
      ]
     },
     "metadata": {
      "needs_background": "light"
     },
     "output_type": "display_data"
    }
   ],
   "source": [
    "plt.figure(figsize=(20, 10))\n",
    "df.boxplot()"
   ]
  },
  {
   "cell_type": "markdown",
   "metadata": {},
   "source": [
    "The OT pay is slightly confusing here since it is additive to the base wage, so it really shouldn't have its own boxplot, but there really isn't a great way to easily visualize this. Vacation and training are similarly hard to visualize in this plot, since they function on different scales than the rest of the columns, and these boxplots don't give them much context to the whole plot."
   ]
  },
  {
   "cell_type": "code",
   "execution_count": 10,
   "metadata": {},
   "outputs": [
    {
     "name": "stdout",
     "output_type": "stream",
     "text": [
      "2.0\n",
      "0.0\n",
      "1.527373631318434\n"
     ]
    }
   ],
   "source": [
    "print(df['OT M-F'].max())\n",
    "print(df['OT M-F'].min())\n",
    "print(df['OT M-F'].mean())"
   ]
  },
  {
   "cell_type": "code",
   "execution_count": 11,
   "metadata": {},
   "outputs": [
    {
     "name": "stdout",
     "output_type": "stream",
     "text": [
      "2.0\n",
      "0.0\n",
      "1.527373631318434\n"
     ]
    }
   ],
   "source": [
    "print(df['OT Sa'].max())\n",
    "print(df['OT Sa'].min())\n",
    "print(df['OT M-F'].mean())"
   ]
  },
  {
   "cell_type": "code",
   "execution_count": 12,
   "metadata": {},
   "outputs": [
    {
     "name": "stdout",
     "output_type": "stream",
     "text": [
      "2.0\n",
      "0.0\n",
      "1.527373631318434\n"
     ]
    }
   ],
   "source": [
    "print(df['OT Su'].max())\n",
    "print(df['OT Su'].min())\n",
    "print(df['OT M-F'].mean())"
   ]
  },
  {
   "cell_type": "code",
   "execution_count": 13,
   "metadata": {},
   "outputs": [
    {
     "name": "stdout",
     "output_type": "stream",
     "text": [
      "2.0\n",
      "0.0\n",
      "1.527373631318434\n"
     ]
    }
   ],
   "source": [
    "print(df['OT Hol'].max())\n",
    "print(df['OT Hol'].min())\n",
    "print(df['OT M-F'].mean())"
   ]
  },
  {
   "cell_type": "markdown",
   "metadata": {},
   "source": [
    "#### All of the above overtime calculations are exactly the same, leading me to believe that overtime values are most likely set at a state-wide level that all employers must abide by."
   ]
  },
  {
   "cell_type": "code",
   "execution_count": 14,
   "metadata": {},
   "outputs": [
    {
     "name": "stdout",
     "output_type": "stream",
     "text": [
      "Highest paying counties: \n",
      "County\n",
      "Will       45.696349\n",
      "Cook       45.093662\n",
      "Lake       44.919306\n",
      "Kendall    44.670308\n",
      "Grundy     44.565517\n",
      "Name: Base Wage, dtype: float64\n",
      "\n",
      "\n",
      "Lowest paying counties: \n",
      "County\n",
      "Rock Island    31.564932\n",
      "Mercer         31.606133\n",
      "Crawford       32.006545\n",
      "Wabash         32.024364\n",
      "Clark          32.400364\n",
      "Name: Base Wage, dtype: float64\n"
     ]
    }
   ],
   "source": [
    "df_county_wage = df.groupby('County')['Base Wage']\n",
    "mean_county_wage = df_county_wage.mean()\n",
    "print('Highest paying counties: \\n' + str(mean_county_wage.sort_values(ascending=False).head()))\n",
    "print('\\n')\n",
    "print('Lowest paying counties: \\n' + str(mean_county_wage.sort_values(ascending=True).head()))"
   ]
  },
  {
   "cell_type": "code",
   "execution_count": 15,
   "metadata": {},
   "outputs": [
    {
     "data": {
      "image/png": "[encoded data removed]",
      "text/plain": [
       "<Figure size 1440x432 with 1 Axes>"
      ]
     },
     "metadata": {
      "needs_background": "light"
     },
     "output_type": "display_data"
    }
   ],
   "source": [
    "plt.figure(figsize=(20, 6))\n",
    "plt.bar(mean_county_wage.sort_values(ascending=False).index, mean_county_wage.sort_values(ascending=False).values)\n",
    "plt.xticks(rotation=90)\n",
    "plt.xlabel('County')\n",
    "plt.ylabel('Mean Base Wage')\n",
    "plt.title('Average Base Wage by County for Trade Jobs (Illinois)')\n",
    "plt.show()"
   ]
  },
  {
   "cell_type": "markdown",
   "metadata": {},
   "source": [
    "Above is a plot of the average base wage of each county in our tradesmen dataset of Illinois. These county buckets average the base wage across all trades in the county, to give a county-wide average base wage, regardless of the job type. I also ordered these wages to be descending in value, as to make the plot easier to read, allowing a viewer the ability to quickly pick out the largest and smallest values without needing to do much searching. This plot could be valuable for someone who is in the trade field and is looking to move to Illinois, as they could easily see the counties with the highest probability of paying them well. "
   ]
  },
  {
   "cell_type": "markdown",
   "metadata": {},
   "source": [
    "## Plot Summary\n",
    "\n",
    "Summarize the characteristics of the dataset in words: what does it represent, what are the fields/columns/rows, what data types are they, etc."
   ]
  },
  {
   "cell_type": "code",
   "execution_count": 16,
   "metadata": {},
   "outputs": [
    {
     "data": {
      "text/html": [
       "<div>\n",
       "<style scoped>\n",
       "    .dataframe tbody tr th:only-of-type {\n",
       "        vertical-align: middle;\n",
       "    }\n",
       "\n",
       "    .dataframe tbody tr th {\n",
       "        vertical-align: top;\n",
       "    }\n",
       "\n",
       "    .dataframe thead th {\n",
       "        text-align: right;\n",
       "    }\n",
       "</style>\n",
       "<table border=\"1\" class=\"dataframe\">\n",
       "  <thead>\n",
       "    <tr style=\"text-align: right;\">\n",
       "      <th></th>\n",
       "      <th>Effective Date</th>\n",
       "      <th>County</th>\n",
       "      <th>Trade Title</th>\n",
       "      <th>Region</th>\n",
       "      <th>Type</th>\n",
       "      <th>Class</th>\n",
       "      <th>Base Wage</th>\n",
       "      <th>Foreman Wage</th>\n",
       "      <th>OT M-F</th>\n",
       "      <th>OT Sa</th>\n",
       "      <th>OT Su</th>\n",
       "      <th>OT Hol</th>\n",
       "      <th>H/W</th>\n",
       "      <th>Pension</th>\n",
       "      <th>Vacation</th>\n",
       "      <th>Training</th>\n",
       "      <th>Other Fringe Benefit</th>\n",
       "    </tr>\n",
       "  </thead>\n",
       "  <tbody>\n",
       "    <tr>\n",
       "      <th>0</th>\n",
       "      <td>4/5/2019</td>\n",
       "      <td>Adams</td>\n",
       "      <td>ASBESTOS ABT-GEN</td>\n",
       "      <td>All</td>\n",
       "      <td>BLD</td>\n",
       "      <td>NaN</td>\n",
       "      <td>25.40</td>\n",
       "      <td>27.15</td>\n",
       "      <td>1.5</td>\n",
       "      <td>1.5</td>\n",
       "      <td>2.0</td>\n",
       "      <td>2.0</td>\n",
       "      <td>9.25</td>\n",
       "      <td>12.13</td>\n",
       "      <td>0.0</td>\n",
       "      <td>0.80</td>\n",
       "      <td>0.0</td>\n",
       "    </tr>\n",
       "    <tr>\n",
       "      <th>1</th>\n",
       "      <td>8/15/2018</td>\n",
       "      <td>Adams</td>\n",
       "      <td>ASBESTOS ABT-MEC</td>\n",
       "      <td>ALL</td>\n",
       "      <td>BLD</td>\n",
       "      <td>NaN</td>\n",
       "      <td>31.56</td>\n",
       "      <td>32.56</td>\n",
       "      <td>1.5</td>\n",
       "      <td>1.5</td>\n",
       "      <td>2.0</td>\n",
       "      <td>2.0</td>\n",
       "      <td>8.25</td>\n",
       "      <td>3.00</td>\n",
       "      <td>0.0</td>\n",
       "      <td>0.00</td>\n",
       "      <td>NaN</td>\n",
       "    </tr>\n",
       "    <tr>\n",
       "      <th>2</th>\n",
       "      <td>8/15/2018</td>\n",
       "      <td>Adams</td>\n",
       "      <td>BOILERMAKER</td>\n",
       "      <td>All</td>\n",
       "      <td>BLD</td>\n",
       "      <td>NaN</td>\n",
       "      <td>37.00</td>\n",
       "      <td>39.50</td>\n",
       "      <td>1.5</td>\n",
       "      <td>1.5</td>\n",
       "      <td>2.0</td>\n",
       "      <td>2.0</td>\n",
       "      <td>7.07</td>\n",
       "      <td>23.72</td>\n",
       "      <td>1.5</td>\n",
       "      <td>1.05</td>\n",
       "      <td>0.0</td>\n",
       "    </tr>\n",
       "    <tr>\n",
       "      <th>3</th>\n",
       "      <td>8/15/2018</td>\n",
       "      <td>Adams</td>\n",
       "      <td>BRICK MASON</td>\n",
       "      <td>All</td>\n",
       "      <td>BLD</td>\n",
       "      <td>NaN</td>\n",
       "      <td>30.29</td>\n",
       "      <td>31.80</td>\n",
       "      <td>1.5</td>\n",
       "      <td>1.5</td>\n",
       "      <td>2.0</td>\n",
       "      <td>2.0</td>\n",
       "      <td>9.10</td>\n",
       "      <td>11.18</td>\n",
       "      <td>0.0</td>\n",
       "      <td>0.85</td>\n",
       "      <td>0.0</td>\n",
       "    </tr>\n",
       "    <tr>\n",
       "      <th>4</th>\n",
       "      <td>4/5/2019</td>\n",
       "      <td>Adams</td>\n",
       "      <td>CARPENTER</td>\n",
       "      <td>All</td>\n",
       "      <td>BLD</td>\n",
       "      <td>NaN</td>\n",
       "      <td>32.24</td>\n",
       "      <td>34.49</td>\n",
       "      <td>1.5</td>\n",
       "      <td>1.5</td>\n",
       "      <td>2.0</td>\n",
       "      <td>2.0</td>\n",
       "      <td>8.55</td>\n",
       "      <td>17.50</td>\n",
       "      <td>0.0</td>\n",
       "      <td>0.54</td>\n",
       "      <td>0.0</td>\n",
       "    </tr>\n",
       "    <tr>\n",
       "      <th>...</th>\n",
       "      <td>...</td>\n",
       "      <td>...</td>\n",
       "      <td>...</td>\n",
       "      <td>...</td>\n",
       "      <td>...</td>\n",
       "      <td>...</td>\n",
       "      <td>...</td>\n",
       "      <td>...</td>\n",
       "      <td>...</td>\n",
       "      <td>...</td>\n",
       "      <td>...</td>\n",
       "      <td>...</td>\n",
       "      <td>...</td>\n",
       "      <td>...</td>\n",
       "      <td>...</td>\n",
       "      <td>...</td>\n",
       "      <td>...</td>\n",
       "    </tr>\n",
       "    <tr>\n",
       "      <th>6662</th>\n",
       "      <td>8/15/2018</td>\n",
       "      <td>Woodford</td>\n",
       "      <td>TRUCK DRIVER</td>\n",
       "      <td>W</td>\n",
       "      <td>ALL</td>\n",
       "      <td>2</td>\n",
       "      <td>37.60</td>\n",
       "      <td>41.07</td>\n",
       "      <td>1.5</td>\n",
       "      <td>1.5</td>\n",
       "      <td>2.0</td>\n",
       "      <td>2.0</td>\n",
       "      <td>12.65</td>\n",
       "      <td>6.12</td>\n",
       "      <td>0.0</td>\n",
       "      <td>0.25</td>\n",
       "      <td>0.0</td>\n",
       "    </tr>\n",
       "    <tr>\n",
       "      <th>6663</th>\n",
       "      <td>8/15/2018</td>\n",
       "      <td>Woodford</td>\n",
       "      <td>TRUCK DRIVER</td>\n",
       "      <td>W</td>\n",
       "      <td>ALL</td>\n",
       "      <td>3</td>\n",
       "      <td>37.85</td>\n",
       "      <td>41.07</td>\n",
       "      <td>1.5</td>\n",
       "      <td>1.5</td>\n",
       "      <td>2.0</td>\n",
       "      <td>2.0</td>\n",
       "      <td>12.65</td>\n",
       "      <td>6.12</td>\n",
       "      <td>0.0</td>\n",
       "      <td>0.25</td>\n",
       "      <td>0.0</td>\n",
       "    </tr>\n",
       "    <tr>\n",
       "      <th>6664</th>\n",
       "      <td>8/15/2018</td>\n",
       "      <td>Woodford</td>\n",
       "      <td>TRUCK DRIVER</td>\n",
       "      <td>W</td>\n",
       "      <td>ALL</td>\n",
       "      <td>4</td>\n",
       "      <td>38.20</td>\n",
       "      <td>41.07</td>\n",
       "      <td>1.5</td>\n",
       "      <td>1.5</td>\n",
       "      <td>2.0</td>\n",
       "      <td>2.0</td>\n",
       "      <td>12.65</td>\n",
       "      <td>6.12</td>\n",
       "      <td>0.0</td>\n",
       "      <td>0.25</td>\n",
       "      <td>0.0</td>\n",
       "    </tr>\n",
       "    <tr>\n",
       "      <th>6665</th>\n",
       "      <td>8/15/2018</td>\n",
       "      <td>Woodford</td>\n",
       "      <td>TRUCK DRIVER</td>\n",
       "      <td>W</td>\n",
       "      <td>ALL</td>\n",
       "      <td>5</td>\n",
       "      <td>39.21</td>\n",
       "      <td>41.07</td>\n",
       "      <td>1.5</td>\n",
       "      <td>1.5</td>\n",
       "      <td>2.0</td>\n",
       "      <td>2.0</td>\n",
       "      <td>12.65</td>\n",
       "      <td>6.12</td>\n",
       "      <td>0.0</td>\n",
       "      <td>0.25</td>\n",
       "      <td>0.0</td>\n",
       "    </tr>\n",
       "    <tr>\n",
       "      <th>6666</th>\n",
       "      <td>8/15/2018</td>\n",
       "      <td>Woodford</td>\n",
       "      <td>TUCKPOINTER</td>\n",
       "      <td>All</td>\n",
       "      <td>BLD</td>\n",
       "      <td>NaN</td>\n",
       "      <td>34.10</td>\n",
       "      <td>35.60</td>\n",
       "      <td>1.5</td>\n",
       "      <td>1.5</td>\n",
       "      <td>2.0</td>\n",
       "      <td>2.0</td>\n",
       "      <td>10.35</td>\n",
       "      <td>11.32</td>\n",
       "      <td>0.0</td>\n",
       "      <td>0.82</td>\n",
       "      <td>0.0</td>\n",
       "    </tr>\n",
       "  </tbody>\n",
       "</table>\n",
       "<p>6667 rows × 17 columns</p>\n",
       "</div>"
      ],
      "text/plain": [
       "     Effective Date    County       Trade Title Region Type Class  Base Wage  \\\n",
       "0          4/5/2019     Adams  ASBESTOS ABT-GEN    All  BLD   NaN      25.40   \n",
       "1         8/15/2018     Adams  ASBESTOS ABT-MEC    ALL  BLD   NaN      31.56   \n",
       "2         8/15/2018     Adams       BOILERMAKER    All  BLD   NaN      37.00   \n",
       "3         8/15/2018     Adams       BRICK MASON    All  BLD   NaN      30.29   \n",
       "4          4/5/2019     Adams         CARPENTER    All  BLD   NaN      32.24   \n",
       "...             ...       ...               ...    ...  ...   ...        ...   \n",
       "6662      8/15/2018  Woodford      TRUCK DRIVER      W  ALL     2      37.60   \n",
       "6663      8/15/2018  Woodford      TRUCK DRIVER      W  ALL     3      37.85   \n",
       "6664      8/15/2018  Woodford      TRUCK DRIVER      W  ALL     4      38.20   \n",
       "6665      8/15/2018  Woodford      TRUCK DRIVER      W  ALL     5      39.21   \n",
       "6666      8/15/2018  Woodford       TUCKPOINTER    All  BLD   NaN      34.10   \n",
       "\n",
       "      Foreman Wage  OT M-F  OT Sa  OT Su  OT Hol    H/W  Pension  Vacation  \\\n",
       "0            27.15     1.5    1.5    2.0     2.0   9.25    12.13       0.0   \n",
       "1            32.56     1.5    1.5    2.0     2.0   8.25     3.00       0.0   \n",
       "2            39.50     1.5    1.5    2.0     2.0   7.07    23.72       1.5   \n",
       "3            31.80     1.5    1.5    2.0     2.0   9.10    11.18       0.0   \n",
       "4            34.49     1.5    1.5    2.0     2.0   8.55    17.50       0.0   \n",
       "...            ...     ...    ...    ...     ...    ...      ...       ...   \n",
       "6662         41.07     1.5    1.5    2.0     2.0  12.65     6.12       0.0   \n",
       "6663         41.07     1.5    1.5    2.0     2.0  12.65     6.12       0.0   \n",
       "6664         41.07     1.5    1.5    2.0     2.0  12.65     6.12       0.0   \n",
       "6665         41.07     1.5    1.5    2.0     2.0  12.65     6.12       0.0   \n",
       "6666         35.60     1.5    1.5    2.0     2.0  10.35    11.32       0.0   \n",
       "\n",
       "      Training  Other Fringe Benefit  \n",
       "0         0.80                   0.0  \n",
       "1         0.00                   NaN  \n",
       "2         1.05                   0.0  \n",
       "3         0.85                   0.0  \n",
       "4         0.54                   0.0  \n",
       "...        ...                   ...  \n",
       "6662      0.25                   0.0  \n",
       "6663      0.25                   0.0  \n",
       "6664      0.25                   0.0  \n",
       "6665      0.25                   0.0  \n",
       "6666      0.82                   0.0  \n",
       "\n",
       "[6667 rows x 17 columns]"
      ]
     },
     "execution_count": 16,
     "metadata": {},
     "output_type": "execute_result"
    }
   ],
   "source": [
    "df"
   ]
  },
  {
   "cell_type": "markdown",
   "metadata": {},
   "source": [
    "Strangely Named Columns:\n",
    "- Class: Only applies to truck drivers, the class of the truck driver in question\n",
    "- OT BLANK: Refers to the Overtime that the position earns from one of the following: Monday-Friday, Saturday, Sunday, Holidays\n",
    "- H/W: Health/Welfare Benefit per hour\n",
    "- Pension: Dollars contributed to the position's pension per hour\n",
    "- Vacation: The amount allocated for vacation pay. A value of 0 may mean this is payed another way, as it is illegal for a position to have no vacation time built in\n",
    "- Training: Contributions made by the company for training/apprenticeship programs (I believe this is a percentage of the training they would pay)\n",
    "- Other Fringe Benefits: Any other kind of benefit not included in the other columns\n",
    "\n",
    "Unknown Columns: These columns will most likely not be used in our visualizations as I don't completely understand them, and therefore cannot accurately make visualizations for them\n",
    "- Region: Could be the region in which they are allowed to work, unsure\n",
    "- Type: Could be the locations the position is allowed to work in, again unsure\n",
    "\n",
    "The rest of the columns have fairly straightforward names, and shouldn't need further explanation."
   ]
  }
 ],
 "metadata": {
  "kernelspec": {
   "display_name": "Python 3",
   "language": "python",
   "name": "python3"
  },
  "language_info": {
   "codemirror_mode": {
    "name": "ipython",
    "version": 3
   },
   "file_extension": ".py",
   "mimetype": "text/x-python",
   "name": "python",
   "nbconvert_exporter": "python",
   "pygments_lexer": "ipython3",
   "version": "3.8.6"
  }
 },
 "nbformat": 4,
 "nbformat_minor": 4
}
